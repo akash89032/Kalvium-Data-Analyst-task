{
 "cells": [
  {
   "cell_type": "code",
   "execution_count": null,
   "id": "279f1d5f-7231-42eb-b370-9ddfef3e3170",
   "metadata": {},
   "outputs": [],
   "source": [
    "from bs4 import BeautifulSoup\n",
    "import requests\n",
    "import pandas as pd\n",
    "\n",
    "# URL\n",
    "url = 'https://en.wikipedia.org/wiki/List_of_National_Democratic_Alliance_members'\n",
    "response = requests.get(url)\n",
    "\n",
    "soup = BeautifulSoup(response.text, 'html.parser')\n",
    "\n",
    "table = soup.find('table', class_='wikitable')\n",
    "\n",
    "headers = table.find_all('th')\n",
    "header_titles = [header.text.strip() for header in headers]\n",
    "\n",
    "\n",
    "political_party_index = header_titles.index('Political party')\n",
    "political_parties = []\n",
    "\n",
    "for row in table.find_all('tr')[1:]:\n",
    "    columns = row.find_all('td')\n",
    "    if len(columns) > political_party_index:\n",
    "        political_party = columns[political_party_index].text.strip()\n",
    "        political_parties.append(political_party)\n",
    "\n",
    "df = pd.DataFrame(political_parties, columns=['Political Party'])\n",
    "print(df)\n",
    "\n",
    "output_file = 'NDA_political_parties.xlsx'\n",
    "df[:39].to_excel(output_file, index=False)\n",
    "print(f\"Saved the data to {output_file}\")\n"
   ]
  },
  {
   "cell_type": "code",
   "execution_count": null,
   "id": "173d0c43-42e7-4ba8-82c3-3fbccdb82af2",
   "metadata": {},
   "outputs": [],
   "source": []
  }
 ],
 "metadata": {
  "kernelspec": {
   "display_name": "Python 3 (ipykernel)",
   "language": "python",
   "name": "python3"
  },
  "language_info": {
   "codemirror_mode": {
    "name": "ipython",
    "version": 3
   },
   "file_extension": ".py",
   "mimetype": "text/x-python",
   "name": "python",
   "nbconvert_exporter": "python",
   "pygments_lexer": "ipython3",
   "version": "3.11.5"
  }
 },
 "nbformat": 4,
 "nbformat_minor": 5
}
