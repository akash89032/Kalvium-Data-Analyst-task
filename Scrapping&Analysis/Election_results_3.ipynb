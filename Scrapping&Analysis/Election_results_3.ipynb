{
 "cells": [
  {
   "cell_type": "code",
   "execution_count": 3,
   "id": "cc642238-1063-4731-a9f6-e942a858f50a",
   "metadata": {},
   "outputs": [
    {
     "name": "stdout",
     "output_type": "stream",
     "text": [
      "Merged Excel file has been created at: C:\\Users\\Khsak\\Downloads\\scrapped data\\merged_election_results.xlsx\n"
     ]
    }
   ],
   "source": [
    "import pandas as pd\n",
    "\n",
    "election_results_path = r\"C:\\Users\\Khsak\\Downloads\\scrapped data\\election_results.xlsx\"\n",
    "leading_results_path = r\"C:\\Users\\Khsak\\Downloads\\scrapped data\\leading_results.xlsx\"\n",
    "\n",
    "election_df = pd.read_excel(election_results_path)\n",
    "leading_df = pd.read_excel(leading_results_path)\n",
    "\n",
    "if len(election_df) != len(leading_df):\n",
    "    print(\"Warning: The number of rows in the two DataFrames does not match.\")\n",
    "\n",
    "\n",
    "merged_df = pd.concat([election_df, leading_df], axis=1)\n",
    "merged_file_path = r\"C:\\Users\\Khsak\\Downloads\\scrapped data\\merged_election_results.xlsx\"\n",
    "\n",
    "merged_df.to_excel(merged_file_path, index=False)\n",
    "print(f\"Merged Excel file has been created at: {merged_file_path}\")\n"
   ]
  },
  {
   "cell_type": "code",
   "execution_count": 5,
   "id": "ae61ad71-56e5-400f-bfea-5787947736e1",
   "metadata": {},
   "outputs": [
    {
     "name": "stdout",
     "output_type": "stream",
     "text": [
      "   S.No Parliament Constituency                            Winning Candidate  \\\n",
      "0     1           Anakapalle(5)                                   C.M.RAMESH   \n",
      "1     2          Rajahmundry(8)                     DAGGUBATI PURANDHESHWARI   \n",
      "2     3           Narsapuram(9)  BHUPATHI RAJU SRINIVASA VARMA (B.J.P.VARMA)   \n",
      "3     4       Arunachal West(1)                                 KIREN RIJIJU   \n",
      "4     5       Arunachal East(2)                                    TAPIR GAO   \n",
      "\n",
      "                    Party  Margin Total Votes   Trailing Candidate  \\\n",
      "0  Bharatiya Janata Party  296530      762069   BUDI MUTYALA NAIDU   \n",
      "1  Bharatiya Janata Party  239139      726515  DR. GUDURI SRINIVAS   \n",
      "2  Bharatiya Janata Party  276802      707343       UMABALA GUDURI   \n",
      "3  Bharatiya Janata Party  100738      205417           NABAM TUKI   \n",
      "4  Bharatiya Janata Party   30421      145581        BOSIRAM SIRAM   \n",
      "\n",
      "                          Trailing Party Alliance  \n",
      "0  Yuvajana Sramika Rythu Congress Party      NDA  \n",
      "1  Yuvajana Sramika Rythu Congress Party      NDA  \n",
      "2  Yuvajana Sramika Rythu Congress Party      NDA  \n",
      "3               Indian National Congress      NDA  \n",
      "4               Indian National Congress      NDA  \n",
      "Saved the updated data to C:\\Users\\Khsak\\Downloads\\scrapped data\\merged_election_results.xlsx\n"
     ]
    }
   ],
   "source": [
    "\n",
    "election_results_file =r\"C:\\Users\\Khsak\\Downloads\\scrapped data\\merged_election_results.xlsx\"\n",
    "nda_parties_file = r'C:\\Users\\Khsak\\Downloads\\scrapped data\\NDA_political_parties.xlsx'\n",
    "independent_parties_file = r'C:\\Users\\Khsak\\Downloads\\scrapped data\\Independent_political_parties.xlsx'\n",
    "\n",
    "election_results_df = pd.read_excel(election_results_file)\n",
    "nda_parties_df = pd.read_excel(nda_parties_file)\n",
    "independent_parties_df = pd.read_excel(independent_parties_file)\n",
    "\n",
    "independent_parties = independent_parties_df['Political Party'].tolist()\n",
    "nda_parties = nda_parties_df['Political Party'].tolist()\n",
    "\n",
    "def assign_alliance(party):\n",
    "    if party in nda_parties:\n",
    "        return 'NDA'\n",
    "    elif party in independent_parties:\n",
    "        return 'Independent'\n",
    "    elif party == 'Independent':\n",
    "        return 'Independent'\n",
    "    else:\n",
    "        return 'INDIA'\n",
    "\n",
    "election_results_df['Alliance'] = election_results_df['Party'].apply(assign_alliance)\n",
    "\n",
    "election_results_df.to_excel(election_results_file, index=False)\n",
    "\n",
    "print(f\"Saved the updated data to {election_results_file}\")"
   ]
  },
  {
   "cell_type": "code",
   "execution_count": null,
   "id": "d5c3af0b-8ff9-496b-a043-a889e2fda61d",
   "metadata": {},
   "outputs": [],
   "source": []
  }
 ],
 "metadata": {
  "kernelspec": {
   "display_name": "Python 3 (ipykernel)",
   "language": "python",
   "name": "python3"
  },
  "language_info": {
   "codemirror_mode": {
    "name": "ipython",
    "version": 3
   },
   "file_extension": ".py",
   "mimetype": "text/x-python",
   "name": "python",
   "nbconvert_exporter": "python",
   "pygments_lexer": "ipython3",
   "version": "3.11.5"
  }
 },
 "nbformat": 4,
 "nbformat_minor": 5
}
